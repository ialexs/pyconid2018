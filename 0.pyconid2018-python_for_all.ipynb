{
 "cells": [
  {
   "cell_type": "markdown",
   "metadata": {
    "slideshow": {
     "slide_type": "slide"
    }
   },
   "source": [
    "#  And Python For All.. \n",
    "![](image_pycallica.jpg)\n",
    "\n",
    "## From install, to everyday task, to.. *anything*\n",
    "\n",
    "## #PyConID2018 by @ialexs\n"
   ]
  },
  {
   "cell_type": "markdown",
   "metadata": {
    "slideshow": {
     "slide_type": "subslide"
    }
   },
   "source": [
    "<img src=\"image_nrd.jpg\" width=\"70%\" align=\"center\"><br>\n",
    "## ilya alexander s / @ialexs - https://narrada.com"
   ]
  },
  {
   "cell_type": "markdown",
   "metadata": {
    "slideshow": {
     "slide_type": "slide"
    }
   },
   "source": [
    "## do you remember your aha moment with Python? Share it here :)\n",
    "\n",
    "![](image_xkcd-python.png)"
   ]
  },
  {
   "cell_type": "markdown",
   "metadata": {
    "slideshow": {
     "slide_type": "slide"
    }
   },
   "source": [
    "# Idea and goal of this talk\n",
    "\n",
    "- Why .py? \n",
    "\n",
    "> <font color=\"red\">_karena 1, karena 2, karena 3, karena N... gak ada abisnya :)_</font>\n",
    "\n",
    "- The more, the merrier.. \n",
    "\n",
    "> <font color=\"red\">_semakin banyak saingan, akan semakin bagus_</font>"
   ]
  },
  {
   "cell_type": "markdown",
   "metadata": {
    "slideshow": {
     "slide_type": "subslide"
    }
   },
   "source": [
    "# PyCon ID 2018 tagline = Python for Everyone\n",
    "\n",
    "Who is everyone? \n",
    "\n",
    "> _job title 1, job title 2, job title 3, job title 4.. Job Title n_\n",
    "\n",
    "\n",
    "Any others?"
   ]
  },
  {
   "cell_type": "markdown",
   "metadata": {
    "slideshow": {
     "slide_type": "slide"
    }
   },
   "source": [
    "## obvious job title task.. mamamm noh.. aws...  :) `pip install awscli`\n",
    "![](image_awscli.png)"
   ]
  },
  {
   "cell_type": "markdown",
   "metadata": {
    "slideshow": {
     "slide_type": "subslide"
    }
   },
   "source": [
    "`aws ec2 describe-regions`\n",
    "![](image_awscli-example.png)"
   ]
  },
  {
   "cell_type": "markdown",
   "metadata": {
    "slideshow": {
     "slide_type": "subslide"
    }
   },
   "source": [
    "## httpie...  `pip install httpie`\n",
    "\n",
    "![](image_httpie.png)"
   ]
  },
  {
   "cell_type": "markdown",
   "metadata": {
    "slideshow": {
     "slide_type": "slide"
    }
   },
   "source": [
    "# mysql command line on steroid...  `pip install mycli`\n",
    "\n",
    "![](image_mycli.gif)"
   ]
  },
  {
   "cell_type": "markdown",
   "metadata": {
    "slideshow": {
     "slide_type": "slide"
    }
   },
   "source": [
    "## Googler... `pip install googler`  https://github.com/jarun/googler \n",
    "\n",
    "## asciinema... `pip install asciinema` https://asciinema.org/a/85019 \n",
    "\n",
    "![](image_googler.png)"
   ]
  },
  {
   "cell_type": "markdown",
   "metadata": {
    "slideshow": {
     "slide_type": "slide"
    }
   },
   "source": [
    "## Youtube download.. `pip install youtube-dl`  https://asciinema.org/a/209949\n",
    "\n",
    "\n",
    "![](image_youtube.png)\n"
   ]
  },
  {
   "cell_type": "markdown",
   "metadata": {
    "slideshow": {
     "slide_type": "subslide"
    }
   },
   "source": [
    "## 1k+ video/sound sites, including pron, soundcloud etc as simple as: `youtube-dl URL`\n",
    "\n",
    "![](image_youtube-dl-list.png)"
   ]
  },
  {
   "cell_type": "markdown",
   "metadata": {
    "slideshow": {
     "slide_type": "slide"
    }
   },
   "source": [
    "## Twitterrrr... `pip install rainbowstream`\n",
    "\n",
    "![](image_rs.gif)"
   ]
  },
  {
   "cell_type": "markdown",
   "metadata": {
    "slideshow": {
     "slide_type": "slide"
    }
   },
   "source": [
    "## reddit... `pip install rtv`\n",
    "![](image_reddit.png)"
   ]
  },
  {
   "cell_type": "markdown",
   "metadata": {
    "slideshow": {
     "slide_type": "slide"
    }
   },
   "source": [
    "# Findings, based on experience\n",
    "\n",
    "\n",
    "## Obstacle for Tutor and  new-python user is..\n",
    "\n",
    "### 1. Environment madness\n",
    "### 2. What to do with Python? (alias bingung tidak ada contoh kasus yg mau dikerjain)"
   ]
  },
  {
   "cell_type": "markdown",
   "metadata": {
    "slideshow": {
     "slide_type": "subslide"
    }
   },
   "source": [
    "![](image_xkcd-python_env-twitter.png)"
   ]
  },
  {
   "cell_type": "markdown",
   "metadata": {
    "slideshow": {
     "slide_type": "subslide"
    }
   },
   "source": [
    "# ... environment... kusut :(\n",
    "![](image_xkcd-python_env.png)\n",
    "\n",
    "- Computing experience, OS, GUI or non-GUI\n",
    "- Installation procedure\n",
    "- must know your environment  _guitarist analogy_"
   ]
  },
  {
   "cell_type": "markdown",
   "metadata": {
    "slideshow": {
     "slide_type": "slide"
    }
   },
   "source": [
    "# WHAT TO DO WITH PY?\n",
    "\n",
    "### Find something you like (or need to do), then find out how to do it in Python\n",
    "\n",
    "> https://twitter.com/ialexs/status/1031846644927488000\n",
    "\n",
    "![](image_sedotmedali.png)"
   ]
  },
  {
   "cell_type": "markdown",
   "metadata": {
    "slideshow": {
     "slide_type": "subslide"
    }
   },
   "source": [
    "# webscrapping..  `pip install beautifulsoup4`\n",
    "\n",
    "![](image_bsoup.png)\n",
    "\n"
   ]
  },
  {
   "cell_type": "markdown",
   "metadata": {
    "slideshow": {
     "slide_type": "subslide"
    }
   },
   "source": [
    "# or scrapy..  `pip install scrapy`\n",
    "\n",
    "![](image_scrapy.png)"
   ]
  },
  {
   "cell_type": "markdown",
   "metadata": {
    "slideshow": {
     "slide_type": "slide"
    }
   },
   "source": [
    "# virtual environment, packages and notebook\n",
    "\n",
    "### Choose your poison.. `virtualenv` or `conda` ?"
   ]
  },
  {
   "cell_type": "markdown",
   "metadata": {
    "slideshow": {
     "slide_type": "subslide"
    }
   },
   "source": [
    "# https://conda.io \n",
    "# Installer is ~650+MB MacOS, Linux, Windows -_-\"\n",
    "\n",
    "\n",
    "Kesian kalo lagi training ada yg belum install .. \n"
   ]
  },
  {
   "cell_type": "markdown",
   "metadata": {
    "slideshow": {
     "slide_type": "subslide"
    }
   },
   "source": [
    "\n",
    "# Give simple access via python 'simple http server'\n",
    "\n",
    "\n",
    "- This one is sufficient for a small group environment :) https://gist.github.com/touilleMan/eb02ea40b93e52604938   \n",
    "\n",
    "\n",
    "![](image_simplehttp-00.png)\n",
    "    "
   ]
  },
  {
   "cell_type": "markdown",
   "metadata": {
    "slideshow": {
     "slide_type": "subslide"
    }
   },
   "source": [
    "## Give your laptop IP .... tadaaaa.. semua senang :)\n",
    "![](image_simplehttp-01.png)"
   ]
  },
  {
   "cell_type": "markdown",
   "metadata": {
    "slideshow": {
     "slide_type": "subslide"
    }
   },
   "source": [
    "## Install Conda:  https://conda.io/docs/user-guide/install/index.html"
   ]
  },
  {
   "cell_type": "markdown",
   "metadata": {
    "slideshow": {
     "slide_type": "subslide"
    }
   },
   "source": [
    "# after install, check with `conda info` \n",
    "<img src=\"image_anaconda-movie.png\">"
   ]
  },
  {
   "cell_type": "markdown",
   "metadata": {
    "slideshow": {
     "slide_type": "slide"
    }
   },
   "source": [
    "# `conda info`\n",
    "<img src=\"image_conda-info.png\" width=\"60%\">"
   ]
  },
  {
   "cell_type": "markdown",
   "metadata": {
    "slideshow": {
     "slide_type": "subslide"
    }
   },
   "source": [
    "## Manage conda environment: https://conda.io/docs/user-guide/tasks/manage-environments.html\n",
    "\n",
    "### Creating environment `conda create --name cihuy`\n",
    "\n",
    "### .. or for specific Python version? `conda create -n cihuy python=3.4`\n",
    "\n",
    "### Listing environment `conda info --env`\n",
    "\n",
    "\n",
    "### Activating/deactivating environment\n",
    "\n",
    "`source activate cihuy`\n",
    "\n",
    "`source deactivate`\n"
   ]
  },
  {
   "cell_type": "markdown",
   "metadata": {
    "slideshow": {
     "slide_type": "slide"
    }
   },
   "source": [
    "# Notebooks :)\n",
    "\n",
    "Interactive computing, using web browser\n"
   ]
  },
  {
   "cell_type": "markdown",
   "metadata": {
    "slideshow": {
     "slide_type": "subslide"
    }
   },
   "source": [
    "# (my) favorite package\n",
    "\n",
    "For nice slide presentation (like this one)\n",
    "\n",
    "`conda install -c conda-forge rise`\n",
    "\n",
    "`pip install jupyter_contrib_nbextensions`\n",
    "\n",
    "`pip install jupyterthemes`\n",
    "\n",
    "\n",
    "## What's your fav component? :) share it here.."
   ]
  },
  {
   "cell_type": "markdown",
   "metadata": {
    "slideshow": {
     "slide_type": "slide"
    }
   },
   "source": [
    "# Something all of us have in common is...\n",
    "\n"
   ]
  },
  {
   "cell_type": "markdown",
   "metadata": {
    "slideshow": {
     "slide_type": "subslide"
    }
   },
   "source": [
    "# SPREADSHEEETTT :) ![](image_spreadsheet.png)"
   ]
  },
  {
   "cell_type": "markdown",
   "metadata": {
    "slideshow": {
     "slide_type": "subslide"
    }
   },
   "source": [
    "# Many roads to Rome..\n",
    "\n",
    "`pandas`, `xlxswriter`.. etc\n",
    "![](image_xlsxwriter.png)"
   ]
  },
  {
   "cell_type": "markdown",
   "metadata": {
    "slideshow": {
     "slide_type": "subslide"
    }
   },
   "source": [
    "```python\n",
    "##############################################################################\n",
    "#\n",
    "# An example of writing multiple dataframes to worksheets using Pandas and\n",
    "# XlsxWriter.\n",
    "#\n",
    "# Copyright 2013-2018, John McNamara, jmcnamara@cpan.org\n",
    "#\n",
    "\n",
    "import pandas as pd\n",
    "\n",
    "# Create some Pandas dataframes from some data.\n",
    "df1 = pd.DataFrame({'Data': [11, 12, 13, 14]})\n",
    "df2 = pd.DataFrame({'Data': [21, 22, 23, 24]})\n",
    "df3 = pd.DataFrame({'Data': [31, 32, 33, 34]})\n",
    "\n",
    "# Create a Pandas Excel writer using XlsxWriter as the engine.\n",
    "writer = pd.ExcelWriter('pandas_multiple.xlsx', engine='xlsxwriter')\n",
    "\n",
    "# Write each dataframe to a different worksheet.\n",
    "df1.to_excel(writer, sheet_name='Sheet1')\n",
    "df2.to_excel(writer, sheet_name='Sheet2')\n",
    "df3.to_excel(writer, sheet_name='Sheet3')\n",
    "\n",
    "# Close the Pandas Excel writer and output the Excel file.\n",
    "writer.save()\n",
    "```"
   ]
  },
  {
   "cell_type": "markdown",
   "metadata": {
    "slideshow": {
     "slide_type": "subslide"
    }
   },
   "source": [
    "# Example xls List Fintech abal-abal from OJK :p\n",
    "\n",
    "https://twitter.com/ialexs/status/1022804172532379648\n",
    "![](image_list_fintech.png)"
   ]
  },
  {
   "cell_type": "markdown",
   "metadata": {
    "slideshow": {
     "slide_type": "subslide"
    }
   },
   "source": [
    "# no excel? no problem... meet x_x Dead Guy CLI.. \n",
    "\n",
    "### `pip install x_x`\n",
    "\n",
    "`x_x filename.xlsx`\n",
    "\n",
    "![](image_x_x.png)"
   ]
  },
  {
   "cell_type": "markdown",
   "metadata": {
    "slideshow": {
     "slide_type": "slide"
    }
   },
   "source": [
    "# Take out from this small talk\n",
    "\n",
    "## - Know your environment (it's a must), and use 'virtual environment' \n",
    "## - For Windows user, get to know Windows PowerShell\n",
    "## - Start creating your own _'survival kit'_  (a small useful script for your daily task)\n",
    "## - Explore `pip search [KEYWORD]`"
   ]
  },
  {
   "cell_type": "markdown",
   "metadata": {
    "slideshow": {
     "slide_type": "slide"
    }
   },
   "source": [
    "# Thank you \\o/\n",
    "\n",
    "## https://twitter.com/ialexs"
   ]
  }
 ],
 "metadata": {
  "celltoolbar": "Slideshow",
  "kernelspec": {
   "display_name": "Python 3",
   "language": "python",
   "name": "python3"
  },
  "language_info": {
   "codemirror_mode": {
    "name": "ipython",
    "version": 3
   },
   "file_extension": ".py",
   "mimetype": "text/x-python",
   "name": "python",
   "nbconvert_exporter": "python",
   "pygments_lexer": "ipython3",
   "version": "3.7.0"
  }
 },
 "nbformat": 4,
 "nbformat_minor": 2
}
